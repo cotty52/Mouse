{
 "cells": [
  {
   "cell_type": "code",
   "execution_count": 1,
   "metadata": {},
   "outputs": [
    {
     "name": "stdout",
     "output_type": "stream",
     "text": [
      "216.66666666666666\n"
     ]
    }
   ],
   "source": [
    "battery = 3.7\n",
    "Vin = battery\n",
    "Vout = 1.9\n",
    "Vfb = 0.6\n",
    "R2 = 100\n",
    "R1 = R2 * ((Vout / Vfb) - 1)\n",
    "print(R1)"
   ]
  }
 ],
 "metadata": {
  "kernelspec": {
   "display_name": "Python 3",
   "language": "python",
   "name": "python3"
  },
  "language_info": {
   "codemirror_mode": {
    "name": "ipython",
    "version": 3
   },
   "file_extension": ".py",
   "mimetype": "text/x-python",
   "name": "python",
   "nbconvert_exporter": "python",
   "pygments_lexer": "ipython3",
   "version": "3.12.2"
  }
 },
 "nbformat": 4,
 "nbformat_minor": 2
}
